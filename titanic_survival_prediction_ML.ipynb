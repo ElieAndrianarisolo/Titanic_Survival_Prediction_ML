{
  "cells": [
    {
      "cell_type": "markdown",
      "metadata": {
        "id": "lc2JFH6g4CS-"
      },
      "source": [
        "# Titanic Survival Prediction using Machine Learning"
      ]
    },
    {
      "cell_type": "code",
      "execution_count": 2,
      "metadata": {
        "id": "TMILH0SA40q1"
      },
      "outputs": [],
      "source": [
        "import tensorflow as tf\n",
        "import tensorflow_datasets as tfds\n",
        "from sklearn import preprocessing\n",
        "from sklearn.model_selection import train_test_split\n",
        "import pandas as pd"
      ]
    },
    {
      "cell_type": "markdown",
      "metadata": {
        "id": "q-_tGnxV4Mur"
      },
      "source": [
        "### Load the dataset"
      ]
    },
    {
      "cell_type": "code",
      "execution_count": 3,
      "metadata": {
        "id": "VmSC14k78QX5"
      },
      "outputs": [
        {
          "name": "stderr",
          "output_type": "stream",
          "text": [
            "WARNING:absl:You use TensorFlow DType <dtype: 'string'> in tfds.features This will soon be deprecated in favor of NumPy DTypes. In the meantime it was converted to object.\n",
            "WARNING:absl:You use TensorFlow DType <dtype: 'float32'> in tfds.features This will soon be deprecated in favor of NumPy DTypes. In the meantime it was converted to float32.\n",
            "WARNING:absl:You use TensorFlow DType <dtype: 'int32'> in tfds.features This will soon be deprecated in favor of NumPy DTypes. In the meantime it was converted to int32.\n"
          ]
        },
        {
          "name": "stdout",
          "output_type": "stream",
          "text": [
            "\u001b[1mDownloading and preparing dataset Unknown size (download: Unknown size, generated: Unknown size, total: Unknown size) to C:\\Users\\myxio\\tensorflow_datasets\\titanic\\4.0.0...\u001b[0m\n"
          ]
        },
        {
          "name": "stderr",
          "output_type": "stream",
          "text": [
            "C:\\Users\\myxio\\AppData\\Local\\Packages\\PythonSoftwareFoundation.Python.3.11_qbz5n2kfra8p0\\LocalCache\\local-packages\\Python311\\site-packages\\tqdm\\auto.py:21: TqdmWarning: IProgress not found. Please update jupyter and ipywidgets. See https://ipywidgets.readthedocs.io/en/stable/user_install.html\n",
            "  from .autonotebook import tqdm as notebook_tqdm\n",
            "Dl Size...: 0 MiB [00:00, ? MiB/s]1/1 [00:00<00:00,  1.07 url/s]\n",
            "Dl Completed...: 100%|██████████| 1/1 [00:00<00:00,  1.02 url/s]\n",
            "                                                                        \r"
          ]
        },
        {
          "name": "stdout",
          "output_type": "stream",
          "text": [
            "\u001b[1mDataset titanic downloaded and prepared to C:\\Users\\myxio\\tensorflow_datasets\\titanic\\4.0.0. Subsequent calls will reuse this data.\u001b[0m\n"
          ]
        }
      ],
      "source": [
        "titanic_data, info = tfds.load('titanic', split='train', as_supervised=False, with_info=True)\n",
        "titanic_df = tfds.as_dataframe(titanic_data, info)\n",
        "train_data, test_data = train_test_split(titanic_df, test_size=0.2, random_state=42)"
      ]
    },
    {
      "cell_type": "markdown",
      "metadata": {
        "id": "yddCAtwN4Plj"
      },
      "source": [
        "### Preprocess the dataset"
      ]
    },
    {
      "cell_type": "code",
      "execution_count": 4,
      "metadata": {
        "colab": {
          "base_uri": "https://localhost:8080/",
          "height": 382
        },
        "id": "nVGCX9SD4Sqv",
        "outputId": "5a3b8da6-7a7d-4e75-f6cc-ed52dea641c1"
      },
      "outputs": [
        {
          "data": {
            "text/html": [
              "<div>\n",
              "<style scoped>\n",
              "    .dataframe tbody tr th:only-of-type {\n",
              "        vertical-align: middle;\n",
              "    }\n",
              "\n",
              "    .dataframe tbody tr th {\n",
              "        vertical-align: top;\n",
              "    }\n",
              "\n",
              "    .dataframe thead th {\n",
              "        text-align: right;\n",
              "    }\n",
              "</style>\n",
              "<table border=\"1\" class=\"dataframe\">\n",
              "  <thead>\n",
              "    <tr style=\"text-align: right;\">\n",
              "      <th></th>\n",
              "      <th>age</th>\n",
              "      <th>boat</th>\n",
              "      <th>body</th>\n",
              "      <th>cabin</th>\n",
              "      <th>embarked</th>\n",
              "      <th>fare</th>\n",
              "      <th>home.dest</th>\n",
              "      <th>name</th>\n",
              "      <th>parch</th>\n",
              "      <th>pclass</th>\n",
              "      <th>sex</th>\n",
              "      <th>sibsp</th>\n",
              "      <th>survived</th>\n",
              "      <th>ticket</th>\n",
              "    </tr>\n",
              "  </thead>\n",
              "  <tbody>\n",
              "    <tr>\n",
              "      <th>0</th>\n",
              "      <td>30.0</td>\n",
              "      <td>b'Unknown'</td>\n",
              "      <td>-1</td>\n",
              "      <td>b'Unknown'</td>\n",
              "      <td>2</td>\n",
              "      <td>13.0000</td>\n",
              "      <td>b'Sarnia, ON'</td>\n",
              "      <td>b'McCrie, Mr. James Matthew'</td>\n",
              "      <td>0</td>\n",
              "      <td>1</td>\n",
              "      <td>0</td>\n",
              "      <td>0</td>\n",
              "      <td>0</td>\n",
              "      <td>b'233478'</td>\n",
              "    </tr>\n",
              "    <tr>\n",
              "      <th>1</th>\n",
              "      <td>37.0</td>\n",
              "      <td>b'Unknown'</td>\n",
              "      <td>98</td>\n",
              "      <td>b'Unknown'</td>\n",
              "      <td>2</td>\n",
              "      <td>7.9250</td>\n",
              "      <td>b'Ruotsinphytaa, Finland New York, NY'</td>\n",
              "      <td>b'Gustafsson, Mr. Anders Vilhelm'</td>\n",
              "      <td>0</td>\n",
              "      <td>2</td>\n",
              "      <td>0</td>\n",
              "      <td>2</td>\n",
              "      <td>0</td>\n",
              "      <td>b'3101276'</td>\n",
              "    </tr>\n",
              "    <tr>\n",
              "      <th>2</th>\n",
              "      <td>28.0</td>\n",
              "      <td>b'9'</td>\n",
              "      <td>-1</td>\n",
              "      <td>b'Unknown'</td>\n",
              "      <td>2</td>\n",
              "      <td>13.0000</td>\n",
              "      <td>b'Spain'</td>\n",
              "      <td>b'Reynaldo, Ms. Encarnacion'</td>\n",
              "      <td>0</td>\n",
              "      <td>1</td>\n",
              "      <td>1</td>\n",
              "      <td>0</td>\n",
              "      <td>1</td>\n",
              "      <td>b'230434'</td>\n",
              "    </tr>\n",
              "    <tr>\n",
              "      <th>3</th>\n",
              "      <td>18.0</td>\n",
              "      <td>b'Unknown'</td>\n",
              "      <td>-1</td>\n",
              "      <td>b'Unknown'</td>\n",
              "      <td>2</td>\n",
              "      <td>73.5000</td>\n",
              "      <td>b'Lyndhurst, England'</td>\n",
              "      <td>b'Davies, Mr. Charles Henry'</td>\n",
              "      <td>0</td>\n",
              "      <td>1</td>\n",
              "      <td>0</td>\n",
              "      <td>0</td>\n",
              "      <td>0</td>\n",
              "      <td>b'S.O.C. 14879'</td>\n",
              "    </tr>\n",
              "    <tr>\n",
              "      <th>4</th>\n",
              "      <td>-1.0</td>\n",
              "      <td>b'Unknown'</td>\n",
              "      <td>-1</td>\n",
              "      <td>b'Unknown'</td>\n",
              "      <td>0</td>\n",
              "      <td>7.8958</td>\n",
              "      <td>b'Unknown'</td>\n",
              "      <td>b'Gheorgheff, Mr. Stanio'</td>\n",
              "      <td>0</td>\n",
              "      <td>2</td>\n",
              "      <td>0</td>\n",
              "      <td>0</td>\n",
              "      <td>0</td>\n",
              "      <td>b'349254'</td>\n",
              "    </tr>\n",
              "  </tbody>\n",
              "</table>\n",
              "</div>"
            ],
            "text/plain": [
              "    age        boat  body       cabin  embarked     fare  \\\n",
              "0  30.0  b'Unknown'    -1  b'Unknown'         2  13.0000   \n",
              "1  37.0  b'Unknown'    98  b'Unknown'         2   7.9250   \n",
              "2  28.0        b'9'    -1  b'Unknown'         2  13.0000   \n",
              "3  18.0  b'Unknown'    -1  b'Unknown'         2  73.5000   \n",
              "4  -1.0  b'Unknown'    -1  b'Unknown'         0   7.8958   \n",
              "\n",
              "                                home.dest                               name  \\\n",
              "0                           b'Sarnia, ON'       b'McCrie, Mr. James Matthew'   \n",
              "1  b'Ruotsinphytaa, Finland New York, NY'  b'Gustafsson, Mr. Anders Vilhelm'   \n",
              "2                                b'Spain'       b'Reynaldo, Ms. Encarnacion'   \n",
              "3                   b'Lyndhurst, England'       b'Davies, Mr. Charles Henry'   \n",
              "4                              b'Unknown'          b'Gheorgheff, Mr. Stanio'   \n",
              "\n",
              "   parch  pclass  sex  sibsp  survived           ticket  \n",
              "0      0       1    0      0         0        b'233478'  \n",
              "1      0       2    0      2         0       b'3101276'  \n",
              "2      0       1    1      0         1        b'230434'  \n",
              "3      0       1    0      0         0  b'S.O.C. 14879'  \n",
              "4      0       2    0      0         0        b'349254'  "
            ]
          },
          "execution_count": 4,
          "metadata": {},
          "output_type": "execute_result"
        }
      ],
      "source": [
        "titanic_df.head()"
      ]
    },
    {
      "cell_type": "code",
      "execution_count": 5,
      "metadata": {
        "id": "eXH7hlQR88TL"
      },
      "outputs": [],
      "source": [
        "# 1. Encode categorical features\n",
        "encoder = preprocessing.OneHotEncoder(sparse_output=False)\n",
        "train_data['sex'] = encoder.fit_transform(train_data['sex'].values.reshape(-1, 1))\n",
        "test_data['sex'] = encoder.transform(test_data['sex'].values.reshape(-1, 1))"
      ]
    },
    {
      "cell_type": "code",
      "execution_count": 6,
      "metadata": {
        "id": "_zcEpUet9DLn"
      },
      "outputs": [],
      "source": [
        "# 2. Handle missing values\n",
        "train_data['age'].fillna(train_data['age'].median(), inplace=True)\n",
        "test_data['age'].fillna(train_data['age'].median(), inplace=True)"
      ]
    },
    {
      "cell_type": "code",
      "execution_count": 7,
      "metadata": {
        "id": "PffP2izz-D8z"
      },
      "outputs": [],
      "source": [
        "# 3.Scale numerical features\n",
        "scaler = preprocessing.StandardScaler()\n",
        "train_data[['age', 'fare']] = scaler.fit_transform(train_data[['age','fare']])\n",
        "test_data[['age', 'fare']] = scaler.transform(test_data[['age', 'fare']])"
      ]
    },
    {
      "cell_type": "markdown",
      "metadata": {
        "id": "tg4eBec04THr"
      },
      "source": [
        "### Build Neural Network Classifier"
      ]
    },
    {
      "cell_type": "code",
      "execution_count": 8,
      "metadata": {
        "id": "yLSJDQBj4XnJ"
      },
      "outputs": [
        {
          "name": "stderr",
          "output_type": "stream",
          "text": [
            "C:\\Users\\myxio\\AppData\\Local\\Packages\\PythonSoftwareFoundation.Python.3.11_qbz5n2kfra8p0\\LocalCache\\local-packages\\Python311\\site-packages\\keras\\src\\layers\\core\\dense.py:88: UserWarning: Do not pass an `input_shape`/`input_dim` argument to a layer. When using Sequential models, prefer using an `Input(shape)` object as the first layer in the model instead.\n",
            "  super().__init__(activity_regularizer=activity_regularizer, **kwargs)\n"
          ]
        }
      ],
      "source": [
        "# Define features and target and convert to tensors\n",
        "features = ['sex', 'age', 'fare']\n",
        "target = 'survived'\n",
        "train_features = tf.cast(train_data[features], tf.float32)\n",
        "train_target = tf.cast(train_data[target], tf.int32)\n",
        "test_features = tf.cast(test_data[features], tf.float32)\n",
        "test_target = tf.cast(test_data[target], tf.int32)\n",
        "\n",
        "# Build the binary classification model\n",
        "model = tf.keras.Sequential([\n",
        "    tf.keras.layers.Dense(16, activation='relu', input_shape=(len(features),)),\n",
        "    tf.keras.layers.Dropout(0.2),\n",
        "    tf.keras.layers.Dense(8, activation='relu'),\n",
        "    tf.keras.layers.Dense(1, activation='sigmoid')\n",
        "])"
      ]
    },
    {
      "cell_type": "markdown",
      "metadata": {
        "id": "CbDPUDV_4YME"
      },
      "source": [
        "### Model training"
      ]
    },
    {
      "cell_type": "code",
      "execution_count": 9,
      "metadata": {
        "id": "X1uoc4I3ESlq"
      },
      "outputs": [
        {
          "name": "stdout",
          "output_type": "stream",
          "text": [
            "Epoch 1/20\n",
            "\u001b[1m27/27\u001b[0m \u001b[32m━━━━━━━━━━━━━━━━━━━━\u001b[0m\u001b[37m\u001b[0m \u001b[1m2s\u001b[0m 15ms/step - accuracy: 0.5346 - loss: 0.6940 - val_accuracy: 0.6952 - val_loss: 0.6629\n",
            "Epoch 2/20\n",
            "\u001b[1m27/27\u001b[0m \u001b[32m━━━━━━━━━━━━━━━━━━━━\u001b[0m\u001b[37m\u001b[0m \u001b[1m0s\u001b[0m 5ms/step - accuracy: 0.6234 - loss: 0.6825 - val_accuracy: 0.6762 - val_loss: 0.6519\n",
            "Epoch 3/20\n",
            "\u001b[1m27/27\u001b[0m \u001b[32m━━━━━━━━━━━━━━━━━━━━\u001b[0m\u001b[37m\u001b[0m \u001b[1m0s\u001b[0m 5ms/step - accuracy: 0.6876 - loss: 0.6577 - val_accuracy: 0.6905 - val_loss: 0.6398\n",
            "Epoch 4/20\n",
            "\u001b[1m27/27\u001b[0m \u001b[32m━━━━━━━━━━━━━━━━━━━━\u001b[0m\u001b[37m\u001b[0m \u001b[1m0s\u001b[0m 5ms/step - accuracy: 0.6820 - loss: 0.6368 - val_accuracy: 0.7714 - val_loss: 0.6211\n",
            "Epoch 5/20\n",
            "\u001b[1m27/27\u001b[0m \u001b[32m━━━━━━━━━━━━━━━━━━━━\u001b[0m\u001b[37m\u001b[0m \u001b[1m0s\u001b[0m 5ms/step - accuracy: 0.7181 - loss: 0.6197 - val_accuracy: 0.7667 - val_loss: 0.5993\n",
            "Epoch 6/20\n",
            "\u001b[1m27/27\u001b[0m \u001b[32m━━━━━━━━━━━━━━━━━━━━\u001b[0m\u001b[37m\u001b[0m \u001b[1m0s\u001b[0m 4ms/step - accuracy: 0.7587 - loss: 0.5917 - val_accuracy: 0.7667 - val_loss: 0.5802\n",
            "Epoch 7/20\n",
            "\u001b[1m27/27\u001b[0m \u001b[32m━━━━━━━━━━━━━━━━━━━━\u001b[0m\u001b[37m\u001b[0m \u001b[1m0s\u001b[0m 4ms/step - accuracy: 0.7439 - loss: 0.5765 - val_accuracy: 0.7714 - val_loss: 0.5663\n",
            "Epoch 8/20\n",
            "\u001b[1m27/27\u001b[0m \u001b[32m━━━━━━━━━━━━━━━━━━━━\u001b[0m\u001b[37m\u001b[0m \u001b[1m0s\u001b[0m 5ms/step - accuracy: 0.7258 - loss: 0.5807 - val_accuracy: 0.7810 - val_loss: 0.5528\n",
            "Epoch 9/20\n",
            "\u001b[1m27/27\u001b[0m \u001b[32m━━━━━━━━━━━━━━━━━━━━\u001b[0m\u001b[37m\u001b[0m \u001b[1m0s\u001b[0m 5ms/step - accuracy: 0.7593 - loss: 0.5535 - val_accuracy: 0.7810 - val_loss: 0.5416\n",
            "Epoch 10/20\n",
            "\u001b[1m27/27\u001b[0m \u001b[32m━━━━━━━━━━━━━━━━━━━━\u001b[0m\u001b[37m\u001b[0m \u001b[1m0s\u001b[0m 4ms/step - accuracy: 0.7892 - loss: 0.5226 - val_accuracy: 0.7810 - val_loss: 0.5318\n",
            "Epoch 11/20\n",
            "\u001b[1m27/27\u001b[0m \u001b[32m━━━━━━━━━━━━━━━━━━━━\u001b[0m\u001b[37m\u001b[0m \u001b[1m0s\u001b[0m 4ms/step - accuracy: 0.7762 - loss: 0.5285 - val_accuracy: 0.7810 - val_loss: 0.5290\n",
            "Epoch 12/20\n",
            "\u001b[1m27/27\u001b[0m \u001b[32m━━━━━━━━━━━━━━━━━━━━\u001b[0m\u001b[37m\u001b[0m \u001b[1m0s\u001b[0m 5ms/step - accuracy: 0.7602 - loss: 0.5462 - val_accuracy: 0.7857 - val_loss: 0.5307\n",
            "Epoch 13/20\n",
            "\u001b[1m27/27\u001b[0m \u001b[32m━━━━━━━━━━━━━━━━━━━━\u001b[0m\u001b[37m\u001b[0m \u001b[1m0s\u001b[0m 4ms/step - accuracy: 0.7577 - loss: 0.5425 - val_accuracy: 0.7810 - val_loss: 0.5282\n",
            "Epoch 14/20\n",
            "\u001b[1m27/27\u001b[0m \u001b[32m━━━━━━━━━━━━━━━━━━━━\u001b[0m\u001b[37m\u001b[0m \u001b[1m0s\u001b[0m 4ms/step - accuracy: 0.7777 - loss: 0.5134 - val_accuracy: 0.7810 - val_loss: 0.5262\n",
            "Epoch 15/20\n",
            "\u001b[1m27/27\u001b[0m \u001b[32m━━━━━━━━━━━━━━━━━━━━\u001b[0m\u001b[37m\u001b[0m \u001b[1m0s\u001b[0m 5ms/step - accuracy: 0.7497 - loss: 0.5461 - val_accuracy: 0.7810 - val_loss: 0.5261\n",
            "Epoch 16/20\n",
            "\u001b[1m27/27\u001b[0m \u001b[32m━━━━━━━━━━━━━━━━━━━━\u001b[0m\u001b[37m\u001b[0m \u001b[1m0s\u001b[0m 7ms/step - accuracy: 0.7701 - loss: 0.5219 - val_accuracy: 0.7810 - val_loss: 0.5233\n",
            "Epoch 17/20\n",
            "\u001b[1m27/27\u001b[0m \u001b[32m━━━━━━━━━━━━━━━━━━━━\u001b[0m\u001b[37m\u001b[0m \u001b[1m0s\u001b[0m 6ms/step - accuracy: 0.7571 - loss: 0.5422 - val_accuracy: 0.7857 - val_loss: 0.5209\n",
            "Epoch 18/20\n",
            "\u001b[1m27/27\u001b[0m \u001b[32m━━━━━━━━━━━━━━━━━━━━\u001b[0m\u001b[37m\u001b[0m \u001b[1m0s\u001b[0m 7ms/step - accuracy: 0.7828 - loss: 0.5070 - val_accuracy: 0.7857 - val_loss: 0.5211\n",
            "Epoch 19/20\n",
            "\u001b[1m27/27\u001b[0m \u001b[32m━━━━━━━━━━━━━━━━━━━━\u001b[0m\u001b[37m\u001b[0m \u001b[1m0s\u001b[0m 4ms/step - accuracy: 0.7697 - loss: 0.5184 - val_accuracy: 0.7857 - val_loss: 0.5224\n",
            "Epoch 20/20\n",
            "\u001b[1m27/27\u001b[0m \u001b[32m━━━━━━━━━━━━━━━━━━━━\u001b[0m\u001b[37m\u001b[0m \u001b[1m0s\u001b[0m 4ms/step - accuracy: 0.7587 - loss: 0.5192 - val_accuracy: 0.7857 - val_loss: 0.5229\n",
            "\u001b[1m9/9\u001b[0m \u001b[32m━━━━━━━━━━━━━━━━━━━━\u001b[0m\u001b[37m\u001b[0m \u001b[1m0s\u001b[0m 2ms/step - accuracy: 0.7494 - loss: 0.5160 \n",
            "Test accuracy: 0.7557\n"
          ]
        }
      ],
      "source": [
        "# Define optimizer and loss then train and evaluate\n",
        "model.compile(optimizer='adam', loss='binary_crossentropy', metrics=['accuracy'])\n",
        "model.fit(train_features, train_target, epochs=20, validation_split=0.2)\n",
        "test_loss, test_acc = model.evaluate(test_features, test_target)\n",
        "print(f\"Test accuracy: {test_acc:.4f}\")"
      ]
    },
    {
      "cell_type": "markdown",
      "metadata": {
        "id": "UQTYtmbX4bgC"
      },
      "source": [
        "### Model prediction"
      ]
    },
    {
      "cell_type": "code",
      "execution_count": 11,
      "metadata": {
        "id": "XpKuOGay4dHK"
      },
      "outputs": [
        {
          "name": "stdout",
          "output_type": "stream",
          "text": [
            "\u001b[1m9/9\u001b[0m \u001b[32m━━━━━━━━━━━━━━━━━━━━\u001b[0m\u001b[37m\u001b[0m \u001b[1m0s\u001b[0m 8ms/step\n"
          ]
        }
      ],
      "source": [
        "predictions = model.predict(test_features)\n",
        "binary_predictions = (predictions > 0.5).astype(int)\n",
        "results_df = pd. DataFrame ({\n",
        "  'Actual': test_target,\n",
        "  'Predicted': binary_predictions.flatten(),\n",
        "  'Sex': test_data['sex'].values,\n",
        "  'Age': test_data['age'].values\n",
        "})"
      ]
    },
    {
      "cell_type": "code",
      "execution_count": null,
      "metadata": {
        "id": "NJqy-XSpEj4n"
      },
      "outputs": [],
      "source": [
        "# Analyze survival based on Sex and Age\n",
        "sex_analysis = results_df.groupby('Sex').mean()\n",
        "print(\"Survival rate based on Sex : \\n\")\n",
        "print(sex_analysis, \"\\n\")\n",
        "\n",
        "age_analysis = results_df.groupby('Age').mean()\n",
        "print(\"Survival rate based on Age : \\n\")\n",
        "print(age_analysis)"
      ]
    }
  ],
  "metadata": {
    "accelerator": "GPU",
    "colab": {
      "gpuType": "T4",
      "provenance": []
    },
    "kernelspec": {
      "display_name": "Python 3",
      "name": "python3"
    },
    "language_info": {
      "codemirror_mode": {
        "name": "ipython",
        "version": 3
      },
      "file_extension": ".py",
      "mimetype": "text/x-python",
      "name": "python",
      "nbconvert_exporter": "python",
      "pygments_lexer": "ipython3",
      "version": "3.11.9"
    }
  },
  "nbformat": 4,
  "nbformat_minor": 0
}
