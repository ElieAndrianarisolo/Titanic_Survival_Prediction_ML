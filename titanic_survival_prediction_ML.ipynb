{
  "cells": [
    {
      "cell_type": "markdown",
      "metadata": {
        "id": "lc2JFH6g4CS-"
      },
      "source": [
        "# Titanic Survival Prediction using Machine Learning"
      ]
    },
    {
      "cell_type": "code",
      "execution_count": 2,
      "metadata": {
        "id": "TMILH0SA40q1"
      },
      "outputs": [],
      "source": [
        "import tensorflow as tf\n",
        "import tensorflow_datasets as tfds\n",
        "from sklearn import preprocessing\n",
        "from sklearn.model_selection import train_test_split\n",
        "import pandas as pd"
      ]
    },
    {
      "cell_type": "markdown",
      "metadata": {
        "id": "q-_tGnxV4Mur"
      },
      "source": [
        "### Load the dataset"
      ]
    },
    {
      "cell_type": "code",
      "execution_count": null,
      "metadata": {
        "id": "VmSC14k78QX5"
      },
      "outputs": [],
      "source": [
        "titanic_data, info = tfds.load('titanic', split='train', as_supervised=False, with_info=True)\n",
        "titanic_df = tfds.as_dataframe(titanic_data, info)\n",
        "train_data, test_data = train_test_split(titanic_df, test_size=0.2, random_state=42)"
      ]
    },
    {
      "cell_type": "markdown",
      "metadata": {
        "id": "yddCAtwN4Plj"
      },
      "source": [
        "### Preprocess the dataset"
      ]
    },
    {
      "cell_type": "code",
      "execution_count": 4,
      "metadata": {
        "colab": {
          "base_uri": "https://localhost:8080/",
          "height": 382
        },
        "id": "nVGCX9SD4Sqv",
        "outputId": "5a3b8da6-7a7d-4e75-f6cc-ed52dea641c1"
      },
      "outputs": [
        {
          "data": {
            "text/html": [
              "<div>\n",
              "<style scoped>\n",
              "    .dataframe tbody tr th:only-of-type {\n",
              "        vertical-align: middle;\n",
              "    }\n",
              "\n",
              "    .dataframe tbody tr th {\n",
              "        vertical-align: top;\n",
              "    }\n",
              "\n",
              "    .dataframe thead th {\n",
              "        text-align: right;\n",
              "    }\n",
              "</style>\n",
              "<table border=\"1\" class=\"dataframe\">\n",
              "  <thead>\n",
              "    <tr style=\"text-align: right;\">\n",
              "      <th></th>\n",
              "      <th>age</th>\n",
              "      <th>boat</th>\n",
              "      <th>body</th>\n",
              "      <th>cabin</th>\n",
              "      <th>embarked</th>\n",
              "      <th>fare</th>\n",
              "      <th>home.dest</th>\n",
              "      <th>name</th>\n",
              "      <th>parch</th>\n",
              "      <th>pclass</th>\n",
              "      <th>sex</th>\n",
              "      <th>sibsp</th>\n",
              "      <th>survived</th>\n",
              "      <th>ticket</th>\n",
              "    </tr>\n",
              "  </thead>\n",
              "  <tbody>\n",
              "    <tr>\n",
              "      <th>0</th>\n",
              "      <td>30.0</td>\n",
              "      <td>b'Unknown'</td>\n",
              "      <td>-1</td>\n",
              "      <td>b'Unknown'</td>\n",
              "      <td>2</td>\n",
              "      <td>13.0000</td>\n",
              "      <td>b'Sarnia, ON'</td>\n",
              "      <td>b'McCrie, Mr. James Matthew'</td>\n",
              "      <td>0</td>\n",
              "      <td>1</td>\n",
              "      <td>0</td>\n",
              "      <td>0</td>\n",
              "      <td>0</td>\n",
              "      <td>b'233478'</td>\n",
              "    </tr>\n",
              "    <tr>\n",
              "      <th>1</th>\n",
              "      <td>37.0</td>\n",
              "      <td>b'Unknown'</td>\n",
              "      <td>98</td>\n",
              "      <td>b'Unknown'</td>\n",
              "      <td>2</td>\n",
              "      <td>7.9250</td>\n",
              "      <td>b'Ruotsinphytaa, Finland New York, NY'</td>\n",
              "      <td>b'Gustafsson, Mr. Anders Vilhelm'</td>\n",
              "      <td>0</td>\n",
              "      <td>2</td>\n",
              "      <td>0</td>\n",
              "      <td>2</td>\n",
              "      <td>0</td>\n",
              "      <td>b'3101276'</td>\n",
              "    </tr>\n",
              "    <tr>\n",
              "      <th>2</th>\n",
              "      <td>28.0</td>\n",
              "      <td>b'9'</td>\n",
              "      <td>-1</td>\n",
              "      <td>b'Unknown'</td>\n",
              "      <td>2</td>\n",
              "      <td>13.0000</td>\n",
              "      <td>b'Spain'</td>\n",
              "      <td>b'Reynaldo, Ms. Encarnacion'</td>\n",
              "      <td>0</td>\n",
              "      <td>1</td>\n",
              "      <td>1</td>\n",
              "      <td>0</td>\n",
              "      <td>1</td>\n",
              "      <td>b'230434'</td>\n",
              "    </tr>\n",
              "    <tr>\n",
              "      <th>3</th>\n",
              "      <td>18.0</td>\n",
              "      <td>b'Unknown'</td>\n",
              "      <td>-1</td>\n",
              "      <td>b'Unknown'</td>\n",
              "      <td>2</td>\n",
              "      <td>73.5000</td>\n",
              "      <td>b'Lyndhurst, England'</td>\n",
              "      <td>b'Davies, Mr. Charles Henry'</td>\n",
              "      <td>0</td>\n",
              "      <td>1</td>\n",
              "      <td>0</td>\n",
              "      <td>0</td>\n",
              "      <td>0</td>\n",
              "      <td>b'S.O.C. 14879'</td>\n",
              "    </tr>\n",
              "    <tr>\n",
              "      <th>4</th>\n",
              "      <td>-1.0</td>\n",
              "      <td>b'Unknown'</td>\n",
              "      <td>-1</td>\n",
              "      <td>b'Unknown'</td>\n",
              "      <td>0</td>\n",
              "      <td>7.8958</td>\n",
              "      <td>b'Unknown'</td>\n",
              "      <td>b'Gheorgheff, Mr. Stanio'</td>\n",
              "      <td>0</td>\n",
              "      <td>2</td>\n",
              "      <td>0</td>\n",
              "      <td>0</td>\n",
              "      <td>0</td>\n",
              "      <td>b'349254'</td>\n",
              "    </tr>\n",
              "  </tbody>\n",
              "</table>\n",
              "</div>"
            ],
            "text/plain": [
              "    age        boat  body       cabin  embarked     fare  \\\n",
              "0  30.0  b'Unknown'    -1  b'Unknown'         2  13.0000   \n",
              "1  37.0  b'Unknown'    98  b'Unknown'         2   7.9250   \n",
              "2  28.0        b'9'    -1  b'Unknown'         2  13.0000   \n",
              "3  18.0  b'Unknown'    -1  b'Unknown'         2  73.5000   \n",
              "4  -1.0  b'Unknown'    -1  b'Unknown'         0   7.8958   \n",
              "\n",
              "                                home.dest                               name  \\\n",
              "0                           b'Sarnia, ON'       b'McCrie, Mr. James Matthew'   \n",
              "1  b'Ruotsinphytaa, Finland New York, NY'  b'Gustafsson, Mr. Anders Vilhelm'   \n",
              "2                                b'Spain'       b'Reynaldo, Ms. Encarnacion'   \n",
              "3                   b'Lyndhurst, England'       b'Davies, Mr. Charles Henry'   \n",
              "4                              b'Unknown'          b'Gheorgheff, Mr. Stanio'   \n",
              "\n",
              "   parch  pclass  sex  sibsp  survived           ticket  \n",
              "0      0       1    0      0         0        b'233478'  \n",
              "1      0       2    0      2         0       b'3101276'  \n",
              "2      0       1    1      0         1        b'230434'  \n",
              "3      0       1    0      0         0  b'S.O.C. 14879'  \n",
              "4      0       2    0      0         0        b'349254'  "
            ]
          },
          "execution_count": 4,
          "metadata": {},
          "output_type": "execute_result"
        }
      ],
      "source": [
        "titanic_df.head()"
      ]
    },
    {
      "cell_type": "code",
      "execution_count": 5,
      "metadata": {
        "id": "eXH7hlQR88TL"
      },
      "outputs": [],
      "source": [
        "# 1. Encode categorical features\n",
        "encoder = preprocessing.OneHotEncoder(sparse_output=False)\n",
        "train_data['sex'] = encoder.fit_transform(train_data['sex'].values.reshape(-1, 1))\n",
        "test_data['sex'] = encoder.transform(test_data['sex'].values.reshape(-1, 1))"
      ]
    },
    {
      "cell_type": "code",
      "execution_count": 6,
      "metadata": {
        "id": "_zcEpUet9DLn"
      },
      "outputs": [],
      "source": [
        "# 2. Handle missing values\n",
        "train_data['age'].fillna(train_data['age'].median(), inplace=True)\n",
        "test_data['age'].fillna(train_data['age'].median(), inplace=True)"
      ]
    },
    {
      "cell_type": "code",
      "execution_count": 7,
      "metadata": {
        "id": "PffP2izz-D8z"
      },
      "outputs": [],
      "source": [
        "# 3.Scale numerical features\n",
        "scaler = preprocessing.StandardScaler()\n",
        "train_data[['age', 'fare']] = scaler.fit_transform(train_data[['age','fare']])\n",
        "test_data[['age', 'fare']] = scaler.transform(test_data[['age', 'fare']])"
      ]
    },
    {
      "cell_type": "markdown",
      "metadata": {
        "id": "tg4eBec04THr"
      },
      "source": [
        "### Build Neural Network Classifier"
      ]
    },
    {
      "cell_type": "code",
      "execution_count": null,
      "metadata": {
        "id": "yLSJDQBj4XnJ"
      },
      "outputs": [],
      "source": [
        "# Define features and target and convert to tensors\n",
        "features = ['sex', 'age', 'fare']\n",
        "target = 'survived'\n",
        "train_features = tf.cast(train_data[features], tf.float32)\n",
        "train_target = tf.cast(train_data[target], tf.int32)\n",
        "test_features = tf.cast(test_data[features], tf.float32)\n",
        "test_target = tf.cast(test_data[target], tf.int32)\n",
        "\n",
        "# Build the binary classification model\n",
        "model = tf.keras.Sequential([\n",
        "    tf.keras.layers.Dense(16, activation='relu', input_shape=(len(features),)),\n",
        "    tf.keras.layers.Dropout(0.2),\n",
        "    tf.keras.layers.Dense(8, activation='relu'),\n",
        "    tf.keras.layers.Dense(1, activation='sigmoid')\n",
        "])"
      ]
    },
    {
      "cell_type": "markdown",
      "metadata": {
        "id": "CbDPUDV_4YME"
      },
      "source": [
        "### Model training"
      ]
    },
    {
      "cell_type": "code",
      "execution_count": 9,
      "metadata": {
        "id": "X1uoc4I3ESlq"
      },
      "outputs": [
        {
          "name": "stdout",
          "output_type": "stream",
          "text": [
            "Epoch 1/20\n",
            "\u001b[1m27/27\u001b[0m \u001b[32m━━━━━━━━━━━━━━━━━━━━\u001b[0m\u001b[37m\u001b[0m \u001b[1m2s\u001b[0m 13ms/step - accuracy: 0.3395 - loss: 0.7373 - val_accuracy: 0.4238 - val_loss: 0.7065\n",
            "Epoch 2/20\n",
            "\u001b[1m27/27\u001b[0m \u001b[32m━━━━━━━━━━━━━━━━━━━━\u001b[0m\u001b[37m\u001b[0m \u001b[1m0s\u001b[0m 4ms/step - accuracy: 0.4430 - loss: 0.6997 - val_accuracy: 0.6524 - val_loss: 0.6771\n",
            "Epoch 3/20\n",
            "\u001b[1m27/27\u001b[0m \u001b[32m━━━━━━━━━━━━━━━━━━━━\u001b[0m\u001b[37m\u001b[0m \u001b[1m0s\u001b[0m 3ms/step - accuracy: 0.6245 - loss: 0.6598 - val_accuracy: 0.6667 - val_loss: 0.6532\n",
            "Epoch 4/20\n",
            "\u001b[1m27/27\u001b[0m \u001b[32m━━━━━━━━━━━━━━━━━━━━\u001b[0m\u001b[37m\u001b[0m \u001b[1m0s\u001b[0m 4ms/step - accuracy: 0.6894 - loss: 0.6310 - val_accuracy: 0.6810 - val_loss: 0.6348\n",
            "Epoch 5/20\n",
            "\u001b[1m27/27\u001b[0m \u001b[32m━━━━━━━━━━━━━━━━━━━━\u001b[0m\u001b[37m\u001b[0m \u001b[1m0s\u001b[0m 4ms/step - accuracy: 0.6840 - loss: 0.6122 - val_accuracy: 0.6571 - val_loss: 0.6226\n",
            "Epoch 6/20\n",
            "\u001b[1m27/27\u001b[0m \u001b[32m━━━━━━━━━━━━━━━━━━━━\u001b[0m\u001b[37m\u001b[0m \u001b[1m0s\u001b[0m 5ms/step - accuracy: 0.6721 - loss: 0.5923 - val_accuracy: 0.6619 - val_loss: 0.6129\n",
            "Epoch 7/20\n",
            "\u001b[1m27/27\u001b[0m \u001b[32m━━━━━━━━━━━━━━━━━━━━\u001b[0m\u001b[37m\u001b[0m \u001b[1m0s\u001b[0m 5ms/step - accuracy: 0.7159 - loss: 0.5614 - val_accuracy: 0.6810 - val_loss: 0.6049\n",
            "Epoch 8/20\n",
            "\u001b[1m27/27\u001b[0m \u001b[32m━━━━━━━━━━━━━━━━━━━━\u001b[0m\u001b[37m\u001b[0m \u001b[1m0s\u001b[0m 5ms/step - accuracy: 0.6930 - loss: 0.5680 - val_accuracy: 0.7143 - val_loss: 0.5947\n",
            "Epoch 9/20\n",
            "\u001b[1m27/27\u001b[0m \u001b[32m━━━━━━━━━━━━━━━━━━━━\u001b[0m\u001b[37m\u001b[0m \u001b[1m0s\u001b[0m 5ms/step - accuracy: 0.7115 - loss: 0.5657 - val_accuracy: 0.7143 - val_loss: 0.5877\n",
            "Epoch 10/20\n",
            "\u001b[1m27/27\u001b[0m \u001b[32m━━━━━━━━━━━━━━━━━━━━\u001b[0m\u001b[37m\u001b[0m \u001b[1m0s\u001b[0m 5ms/step - accuracy: 0.7130 - loss: 0.5610 - val_accuracy: 0.7143 - val_loss: 0.5805\n",
            "Epoch 11/20\n",
            "\u001b[1m27/27\u001b[0m \u001b[32m━━━━━━━━━━━━━━━━━━━━\u001b[0m\u001b[37m\u001b[0m \u001b[1m0s\u001b[0m 4ms/step - accuracy: 0.7172 - loss: 0.5406 - val_accuracy: 0.7238 - val_loss: 0.5721\n",
            "Epoch 12/20\n",
            "\u001b[1m27/27\u001b[0m \u001b[32m━━━━━━━━━━━━━━━━━━━━\u001b[0m\u001b[37m\u001b[0m \u001b[1m0s\u001b[0m 4ms/step - accuracy: 0.7199 - loss: 0.5606 - val_accuracy: 0.7333 - val_loss: 0.5644\n",
            "Epoch 13/20\n",
            "\u001b[1m27/27\u001b[0m \u001b[32m━━━━━━━━━━━━━━━━━━━━\u001b[0m\u001b[37m\u001b[0m \u001b[1m0s\u001b[0m 4ms/step - accuracy: 0.7174 - loss: 0.5394 - val_accuracy: 0.7619 - val_loss: 0.5569\n",
            "Epoch 14/20\n",
            "\u001b[1m27/27\u001b[0m \u001b[32m━━━━━━━━━━━━━━━━━━━━\u001b[0m\u001b[37m\u001b[0m \u001b[1m0s\u001b[0m 4ms/step - accuracy: 0.7481 - loss: 0.5397 - val_accuracy: 0.7810 - val_loss: 0.5515\n",
            "Epoch 15/20\n",
            "\u001b[1m27/27\u001b[0m \u001b[32m━━━━━━━━━━━━━━━━━━━━\u001b[0m\u001b[37m\u001b[0m \u001b[1m0s\u001b[0m 3ms/step - accuracy: 0.7583 - loss: 0.5311 - val_accuracy: 0.7857 - val_loss: 0.5490\n",
            "Epoch 16/20\n",
            "\u001b[1m27/27\u001b[0m \u001b[32m━━━━━━━━━━━━━━━━━━━━\u001b[0m\u001b[37m\u001b[0m \u001b[1m0s\u001b[0m 4ms/step - accuracy: 0.7401 - loss: 0.5248 - val_accuracy: 0.7857 - val_loss: 0.5460\n",
            "Epoch 17/20\n",
            "\u001b[1m27/27\u001b[0m \u001b[32m━━━━━━━━━━━━━━━━━━━━\u001b[0m\u001b[37m\u001b[0m \u001b[1m0s\u001b[0m 4ms/step - accuracy: 0.7661 - loss: 0.5176 - val_accuracy: 0.7857 - val_loss: 0.5432\n",
            "Epoch 18/20\n",
            "\u001b[1m27/27\u001b[0m \u001b[32m━━━━━━━━━━━━━━━━━━━━\u001b[0m\u001b[37m\u001b[0m \u001b[1m0s\u001b[0m 4ms/step - accuracy: 0.7608 - loss: 0.5163 - val_accuracy: 0.7857 - val_loss: 0.5401\n",
            "Epoch 19/20\n",
            "\u001b[1m27/27\u001b[0m \u001b[32m━━━━━━━━━━━━━━━━━━━━\u001b[0m\u001b[37m\u001b[0m \u001b[1m0s\u001b[0m 3ms/step - accuracy: 0.7778 - loss: 0.5118 - val_accuracy: 0.7810 - val_loss: 0.5359\n",
            "Epoch 20/20\n",
            "\u001b[1m27/27\u001b[0m \u001b[32m━━━━━━━━━━━━━━━━━━━━\u001b[0m\u001b[37m\u001b[0m \u001b[1m0s\u001b[0m 4ms/step - accuracy: 0.7692 - loss: 0.5223 - val_accuracy: 0.7857 - val_loss: 0.5322\n",
            "\u001b[1m9/9\u001b[0m \u001b[32m━━━━━━━━━━━━━━━━━━━━\u001b[0m\u001b[37m\u001b[0m \u001b[1m0s\u001b[0m 2ms/step - accuracy: 0.7506 - loss: 0.5170 \n",
            "Test accuracy: 0.7595\n"
          ]
        }
      ],
      "source": [
        "# Define optimizer and loss then train and evaluate\n",
        "model.compile(optimizer='adam', loss='binary_crossentropy', metrics=['accuracy'])\n",
        "model.fit(train_features, train_target, epochs=20, validation_split=0.2)\n",
        "test_loss, test_acc = model.evaluate(test_features, test_target)\n",
        "print(f\"Test accuracy: {test_acc:.4f}\")"
      ]
    },
    {
      "cell_type": "markdown",
      "metadata": {
        "id": "UQTYtmbX4bgC"
      },
      "source": [
        "### Model prediction"
      ]
    },
    {
      "cell_type": "code",
      "execution_count": 10,
      "metadata": {
        "id": "XpKuOGay4dHK"
      },
      "outputs": [
        {
          "name": "stdout",
          "output_type": "stream",
          "text": [
            "\u001b[1m9/9\u001b[0m \u001b[32m━━━━━━━━━━━━━━━━━━━━\u001b[0m\u001b[37m\u001b[0m \u001b[1m0s\u001b[0m 7ms/step\n"
          ]
        }
      ],
      "source": [
        "predictions = model.predict(test_features)\n",
        "binary_predictions = (predictions > 0.5).astype(int)\n",
        "results_df = pd.DataFrame({\n",
        "  'Actual': test_target,\n",
        "  'Predicted': binary_predictions.flatten(),\n",
        "  'Sex': test_data['sex'].values,\n",
        "  'Age': test_data['age'].values\n",
        "})"
      ]
    },
    {
      "cell_type": "code",
      "execution_count": 11,
      "metadata": {
        "id": "NJqy-XSpEj4n"
      },
      "outputs": [
        {
          "name": "stdout",
          "output_type": "stream",
          "text": [
            "Survival rate based on Sex : \n",
            "\n",
            "       Actual  Predicted       Age\n",
            "Sex                               \n",
            "0.0  0.680851   1.000000 -0.134849\n",
            "1.0  0.190476   0.029762 -0.012996 \n",
            "\n",
            "Survival rate based on Age : \n",
            "\n",
            "            Actual  Predicted       Sex\n",
            "Age                                    \n",
            "-1.397355  0.21875      0.375  0.640625\n",
            "-1.331825  1.00000      1.000  0.000000\n",
            "-1.322468  0.00000      0.000  1.000000\n",
            "-1.299063  1.00000      1.000  0.000000\n",
            "-1.289700  1.00000      1.000  1.000000\n",
            "...            ...        ...       ...\n",
            " 1.916481  0.00000      0.000  1.000000\n",
            " 1.972648  0.00000      0.000  1.000000\n",
            " 2.028815  1.00000      0.000  1.000000\n",
            " 2.141148  0.00000      0.000  1.000000\n",
            " 2.253482  0.00000      0.500  1.000000\n",
            "\n",
            "[66 rows x 3 columns]\n"
          ]
        }
      ],
      "source": [
        "# Analyze survival based on Sex and Age\n",
        "sex_analysis = results_df.groupby('Sex').mean()\n",
        "print(\"Survival rate based on Sex : \\n\")\n",
        "print(sex_analysis, \"\\n\")\n",
        "\n",
        "age_analysis = results_df.groupby('Age').mean()\n",
        "print(\"Survival rate based on Age : \\n\")\n",
        "print(age_analysis)"
      ]
    }
  ],
  "metadata": {
    "accelerator": "GPU",
    "colab": {
      "gpuType": "T4",
      "provenance": []
    },
    "kernelspec": {
      "display_name": "Python 3",
      "name": "python3"
    },
    "language_info": {
      "codemirror_mode": {
        "name": "ipython",
        "version": 3
      },
      "file_extension": ".py",
      "mimetype": "text/x-python",
      "name": "python",
      "nbconvert_exporter": "python",
      "pygments_lexer": "ipython3",
      "version": "3.11.9"
    }
  },
  "nbformat": 4,
  "nbformat_minor": 0
}
